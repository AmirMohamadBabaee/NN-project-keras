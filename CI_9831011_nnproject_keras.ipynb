{
  "cells": [
    {
      "cell_type": "markdown",
      "metadata": {
        "id": "view-in-github",
        "colab_type": "text"
      },
      "source": [
        "<a href=\"https://colab.research.google.com/github/AmirMohamadBabaee/NN-project-keras/blob/main/CI_9831011_nnproject_keras.ipynb\" target=\"_parent\"><img src=\"https://colab.research.google.com/assets/colab-badge.svg\" alt=\"Open In Colab\"/></a>"
      ]
    },
    {
      "cell_type": "code",
      "source": [
        "import os\n",
        "import numpy as np\n",
        "import tensorflow as tf\n",
        "from tensorflow import keras\n",
        "import matplotlib.pyplot as plt\n",
        "from sklearn.metrics import confusion_matrix\n",
        "from tensorflow.keras.preprocessing.image import ImageDataGenerator\n",
        "\n",
        "%matplotlib inline"
      ],
      "metadata": {
        "id": "g1dhf_VZo1y2"
      },
      "execution_count": null,
      "outputs": []
    },
    {
      "cell_type": "markdown",
      "source": [
        "# Load Dataset\n",
        "in this part, load the whole dataset. note label values are between 0 and 9. they need to map to one-hot encoding."
      ],
      "metadata": {
        "id": "vRuWerSi9otb"
      }
    },
    {
      "cell_type": "code",
      "source": [
        "(x_train, y_train), (x_test, y_test) = keras.datasets.cifar10.load_data()"
      ],
      "metadata": {
        "id": "bf3WFoXfo-aG",
        "colab": {
          "base_uri": "https://localhost:8080/"
        },
        "outputId": "5910bde0-65e5-40d2-bd93-2b97884f5a9c"
      },
      "execution_count": null,
      "outputs": [
        {
          "output_type": "stream",
          "name": "stdout",
          "text": [
            "Downloading data from https://www.cs.toronto.edu/~kriz/cifar-10-python.tar.gz\n",
            "170500096/170498071 [==============================] - 3s 0us/step\n",
            "170508288/170498071 [==============================] - 3s 0us/step\n"
          ]
        }
      ]
    },
    {
      "cell_type": "code",
      "source": [
        "print(f'x_train.shape: {x_train.shape}')\n",
        "print(f'y_train.shape: {y_train.shape}')\n",
        "print(f'x_test.shape: {x_test.shape}')\n",
        "print(f'y_test.shape: {y_test.shape}')"
      ],
      "metadata": {
        "id": "A3arIeFJpXvS",
        "outputId": "283307db-3505-4de4-d028-bf860b7de085",
        "colab": {
          "base_uri": "https://localhost:8080/"
        }
      },
      "execution_count": null,
      "outputs": [
        {
          "output_type": "stream",
          "name": "stdout",
          "text": [
            "x_train.shape: (50000, 32, 32, 3)\n",
            "y_train.shape: (50000, 1)\n",
            "x_test.shape: (10000, 32, 32, 3)\n",
            "y_test.shape: (10000, 1)\n"
          ]
        }
      ]
    },
    {
      "cell_type": "markdown",
      "source": [
        "## One-Hot Encoding\n",
        "Encode labels to One-Hot encoding"
      ],
      "metadata": {
        "id": "o3r0guB298D9"
      }
    },
    {
      "cell_type": "code",
      "source": [
        "y_train_oh = tf.reshape(tf.one_hot(y_train, 10, axis=1), (-1, 10))\n",
        "y_test_oh = tf.reshape(tf.one_hot(y_test, 10, axis=1), (-1, 10))"
      ],
      "metadata": {
        "id": "NJPYaGw55FI-"
      },
      "execution_count": null,
      "outputs": []
    },
    {
      "cell_type": "code",
      "source": [
        "print(f'x_train.shape: {x_train.shape}')\n",
        "print(f'y_train.shape: {y_train_oh.shape}')\n",
        "print(f'x_test.shape: {x_test.shape}')\n",
        "print(f'y_test.shape: {y_test_oh.shape}')"
      ],
      "metadata": {
        "id": "ZT2JQoPo5xtb",
        "outputId": "68d05183-45fc-45c8-a718-47ce117522b4",
        "colab": {
          "base_uri": "https://localhost:8080/"
        }
      },
      "execution_count": null,
      "outputs": [
        {
          "output_type": "stream",
          "name": "stdout",
          "text": [
            "x_train.shape: (50000, 32, 32, 3)\n",
            "y_train.shape: (50000, 10)\n",
            "x_test.shape: (10000, 32, 32, 3)\n",
            "y_test.shape: (10000, 10)\n"
          ]
        }
      ]
    },
    {
      "cell_type": "markdown",
      "source": [
        "# Preprocess Data"
      ],
      "metadata": {
        "id": "4bRyl91y_RxQ"
      }
    },
    {
      "cell_type": "code",
      "source": [
        "x_train_float = x_train.astype('float32')\n",
        "x_test_float = x_test.astype('float32')\n",
        "x_train_norm = x_train_float / 255.0\n",
        "x_test_norm = x_test_float / 255.0"
      ],
      "metadata": {
        "id": "GVHahPhQ7OVE"
      },
      "execution_count": null,
      "outputs": []
    },
    {
      "cell_type": "markdown",
      "source": [
        "# Model Implementation\n"
      ],
      "metadata": {
        "id": "qp1BX7dA-E9M"
      }
    },
    {
      "cell_type": "markdown",
      "source": [
        "## Simple Model\n",
        "this model, only includes Conv and MaxPool layers plus fully connected layers."
      ],
      "metadata": {
        "id": "LhQjhEYa-d5X"
      }
    },
    {
      "cell_type": "code",
      "source": [
        "def create_model(input_shape=(32, 32, 3), model_name='cifar10_model'):\n",
        "\n",
        "  # input layer\n",
        "  input_tensor = keras.Input(shape=input_shape)\n",
        "\n",
        "  # first convolution pair\n",
        "  X = keras.layers.Conv2D(32, 3, padding='same', activation='relu')(input_tensor)\n",
        "  X = keras.layers.Conv2D(32, 3, padding='same', activation='relu')(X)\n",
        "\n",
        "  X = keras.layers.MaxPool2D()(X)\n",
        "\n",
        "  # second convolution pair\n",
        "  X = keras.layers.Conv2D(64, 3, padding='same', activation='relu')(X)\n",
        "  X = keras.layers.Conv2D(64, 3, padding='same', activation='relu')(X)\n",
        "\n",
        "  X = keras.layers.MaxPool2D()(X)\n",
        "\n",
        "  # third convolution pair\n",
        "  X = keras.layers.Conv2D(128, 3, padding='same', activation='relu')(X)\n",
        "  X = keras.layers.Conv2D(128, 3, padding='same', activation='relu')(X)\n",
        "\n",
        "  X = keras.layers.MaxPool2D()(X)\n",
        "\n",
        "  # forth convolution pair\n",
        "  X = keras.layers.Conv2D(128, 3, padding='same', activation='relu')(X)\n",
        "  X = keras.layers.Conv2D(128, 3, padding='same', activation='relu')(X)\n",
        "\n",
        "  X = keras.layers.MaxPool2D()(X)\n",
        "\n",
        "  # fully connected layer\n",
        "  X = keras.layers.Flatten()(X)\n",
        "  X = keras.layers.Dense(128, activation='relu')(X)\n",
        "  X = keras.layers.Dense(128, activation='relu')(X)\n",
        "  X = keras.layers.Dense(64, activation='relu')(X)\n",
        "  X = keras.layers.Dense(10, activation='relu')(X)\n",
        "  X = keras.layers.Dense(10, activation='softmax')(X)\n",
        "\n",
        "  model = keras.Model(inputs=input_tensor, outputs=X, name=model_name)\n",
        "  model.summary()\n",
        "  return model"
      ],
      "metadata": {
        "id": "YDJzLuXp2Ulz"
      },
      "execution_count": null,
      "outputs": []
    },
    {
      "cell_type": "code",
      "source": [
        "simple_model = create_model(model_name='cifar10_model_simple')"
      ],
      "metadata": {
        "id": "fPaENkqw2yYz",
        "outputId": "5d561de1-3681-4b66-e2eb-0196ac75a721",
        "colab": {
          "base_uri": "https://localhost:8080/"
        }
      },
      "execution_count": null,
      "outputs": [
        {
          "output_type": "stream",
          "name": "stdout",
          "text": [
            "Model: \"cifar10_model_simple\"\n",
            "_________________________________________________________________\n",
            " Layer (type)                Output Shape              Param #   \n",
            "=================================================================\n",
            " input_1 (InputLayer)        [(None, 32, 32, 3)]       0         \n",
            "                                                                 \n",
            " conv2d (Conv2D)             (None, 32, 32, 32)        896       \n",
            "                                                                 \n",
            " conv2d_1 (Conv2D)           (None, 32, 32, 32)        9248      \n",
            "                                                                 \n",
            " max_pooling2d (MaxPooling2D  (None, 16, 16, 32)       0         \n",
            " )                                                               \n",
            "                                                                 \n",
            " conv2d_2 (Conv2D)           (None, 16, 16, 64)        18496     \n",
            "                                                                 \n",
            " conv2d_3 (Conv2D)           (None, 16, 16, 64)        36928     \n",
            "                                                                 \n",
            " max_pooling2d_1 (MaxPooling  (None, 8, 8, 64)         0         \n",
            " 2D)                                                             \n",
            "                                                                 \n",
            " conv2d_4 (Conv2D)           (None, 8, 8, 128)         73856     \n",
            "                                                                 \n",
            " conv2d_5 (Conv2D)           (None, 8, 8, 128)         147584    \n",
            "                                                                 \n",
            " max_pooling2d_2 (MaxPooling  (None, 4, 4, 128)        0         \n",
            " 2D)                                                             \n",
            "                                                                 \n",
            " conv2d_6 (Conv2D)           (None, 4, 4, 128)         147584    \n",
            "                                                                 \n",
            " conv2d_7 (Conv2D)           (None, 4, 4, 128)         147584    \n",
            "                                                                 \n",
            " max_pooling2d_3 (MaxPooling  (None, 2, 2, 128)        0         \n",
            " 2D)                                                             \n",
            "                                                                 \n",
            " flatten (Flatten)           (None, 512)               0         \n",
            "                                                                 \n",
            " dense (Dense)               (None, 128)               65664     \n",
            "                                                                 \n",
            " dense_1 (Dense)             (None, 128)               16512     \n",
            "                                                                 \n",
            " dense_2 (Dense)             (None, 64)                8256      \n",
            "                                                                 \n",
            " dense_3 (Dense)             (None, 10)                650       \n",
            "                                                                 \n",
            " dense_4 (Dense)             (None, 10)                110       \n",
            "                                                                 \n",
            "=================================================================\n",
            "Total params: 673,368\n",
            "Trainable params: 673,368\n",
            "Non-trainable params: 0\n",
            "_________________________________________________________________\n"
          ]
        }
      ]
    },
    {
      "cell_type": "code",
      "source": [
        "simple_model.compile(\n",
        "    optimizer = 'adam',\n",
        "    loss = keras.losses.CategoricalCrossentropy(),\n",
        "    metrics = ['accuracy']\n",
        ")"
      ],
      "metadata": {
        "id": "Ga_8jkiS3Ck8"
      },
      "execution_count": null,
      "outputs": []
    },
    {
      "cell_type": "code",
      "source": [
        "simple_history = simple_model.fit(x_train_norm, y_train_oh, batch_size=64, epochs=10)"
      ],
      "metadata": {
        "id": "iMZPFw7h3aok",
        "outputId": "b6d242ab-4d5a-479e-a7ed-298b489dc560",
        "colab": {
          "base_uri": "https://localhost:8080/"
        }
      },
      "execution_count": null,
      "outputs": [
        {
          "output_type": "stream",
          "name": "stdout",
          "text": [
            "Epoch 1/10\n",
            "782/782 [==============================] - 8s 9ms/step - loss: 2.3027 - accuracy: 0.0980\n",
            "Epoch 2/10\n",
            "782/782 [==============================] - 7s 9ms/step - loss: 2.3027 - accuracy: 0.0978\n",
            "Epoch 3/10\n",
            "782/782 [==============================] - 7s 9ms/step - loss: 2.3027 - accuracy: 0.0983\n",
            "Epoch 4/10\n",
            "782/782 [==============================] - 7s 9ms/step - loss: 2.3027 - accuracy: 0.0980\n",
            "Epoch 5/10\n",
            "782/782 [==============================] - 7s 9ms/step - loss: 2.3027 - accuracy: 0.0992\n",
            "Epoch 6/10\n",
            "782/782 [==============================] - 7s 9ms/step - loss: 2.3027 - accuracy: 0.0972\n",
            "Epoch 7/10\n",
            "782/782 [==============================] - 7s 9ms/step - loss: 2.3027 - accuracy: 0.0971\n",
            "Epoch 8/10\n",
            "782/782 [==============================] - 7s 9ms/step - loss: 2.3027 - accuracy: 0.0975\n",
            "Epoch 9/10\n",
            "782/782 [==============================] - 7s 9ms/step - loss: 2.3028 - accuracy: 0.0966\n",
            "Epoch 10/10\n",
            "782/782 [==============================] - 7s 9ms/step - loss: 2.3027 - accuracy: 0.0985\n"
          ]
        }
      ]
    },
    {
      "cell_type": "markdown",
      "source": [
        "## Model with Batch Normalization\n",
        "Training deep neural networks with tens of layers is challenging as they can be sensitive to the initial random weights and configuration of the learning algorithm.\n",
        "\n",
        "One possible reason for this difficulty is the distribution of the inputs to layers deep in the network may change after each mini-batch when the weights are updated. This can cause the learning algorithm to forever chase a moving target. This change in the distribution of inputs to layers in the network is referred to the technical name “internal covariate shift.”\n",
        "\n",
        "Batch normalization is a technique for training very deep neural networks that standardizes the inputs to a layer for each mini-batch. This has the effect of stabilizing the learning process and dramatically reducing the number of training epochs required to train deep networks.\n",
        "\n",
        "\\\n",
        "[A Gentle Introduction to Batch Normalization for Deep Neural Networks](https://machinelearningmastery.com/batch-normalization-for-training-of-deep-neural-networks/)"
      ],
      "metadata": {
        "id": "Net_oKVrWz5y"
      }
    },
    {
      "cell_type": "code",
      "source": [
        "def create_model_BN(input_shape=(32, 32, 3), model_name='cifar10_model'):\n",
        "\n",
        "  # input layer\n",
        "  input_tensor = keras.Input(shape=input_shape)\n",
        "\n",
        "  # first convolution pair\n",
        "  X = keras.layers.Conv2D(32, 3, padding='same')(input_tensor)\n",
        "  X = keras.layers.BatchNormalization()(X)\n",
        "  X = keras.activations.relu(X)\n",
        "\n",
        "  X = keras.layers.Conv2D(32, 3, padding='same')(X)\n",
        "  X = keras.layers.BatchNormalization()(X)\n",
        "  X = keras.activations.relu(X)\n",
        "\n",
        "  X = keras.layers.MaxPool2D()(X)\n",
        "\n",
        "  # second convolution pair\n",
        "  X = keras.layers.Conv2D(64, 3, padding='same')(X)\n",
        "  X = keras.layers.BatchNormalization()(X)\n",
        "  X = keras.activations.relu(X)\n",
        "\n",
        "  X = keras.layers.Conv2D(64, 3, padding='same')(X)\n",
        "  X = keras.layers.BatchNormalization()(X)\n",
        "  X = keras.activations.relu(X)\n",
        "\n",
        "  X = keras.layers.MaxPool2D()(X)\n",
        "\n",
        "  # third convolution pair\n",
        "  X = keras.layers.Conv2D(128, 3, padding='same')(X)\n",
        "  X = keras.layers.BatchNormalization()(X)\n",
        "  X = keras.activations.relu(X)\n",
        "\n",
        "  X = keras.layers.Conv2D(128, 3, padding='same')(X)\n",
        "  X = keras.layers.BatchNormalization()(X)\n",
        "  X = keras.activations.relu(X)\n",
        "\n",
        "  X = keras.layers.MaxPool2D()(X)\n",
        "\n",
        "  # forth convolution pair\n",
        "  X = keras.layers.Conv2D(128, 3, padding='same')(X)\n",
        "  X = keras.layers.BatchNormalization()(X)\n",
        "  X = keras.activations.relu(X)\n",
        "\n",
        "  X = keras.layers.Conv2D(128, 3, padding='same')(X)\n",
        "  X = keras.layers.BatchNormalization()(X)\n",
        "  X = keras.activations.relu(X)\n",
        "\n",
        "  X = keras.layers.MaxPool2D()(X)\n",
        "\n",
        "  # fully connected layer\n",
        "  X = keras.layers.Flatten()(X)\n",
        "  X = keras.layers.Dense(128, activation='relu')(X)\n",
        "  X = keras.layers.Dense(128, activation='relu')(X)\n",
        "  X = keras.layers.Dense(64, activation='relu')(X)\n",
        "  X = keras.layers.Dense(10, activation='relu')(X)\n",
        "  X = keras.layers.Dense(10, activation='softmax')(X)\n",
        "\n",
        "  model = keras.Model(inputs=input_tensor, outputs=X, name=model_name)\n",
        "  model.summary()\n",
        "  return model"
      ],
      "metadata": {
        "id": "A50ayGBTpym7"
      },
      "execution_count": null,
      "outputs": []
    },
    {
      "cell_type": "code",
      "source": [
        "BN_model = create_model_BN(model_name='cifar10_model_BN')"
      ],
      "metadata": {
        "colab": {
          "base_uri": "https://localhost:8080/"
        },
        "id": "pwl0XRbVPfKx",
        "outputId": "6a2e0dc3-8a89-40dd-9249-e7e4b99e01a0"
      },
      "execution_count": null,
      "outputs": [
        {
          "output_type": "stream",
          "name": "stdout",
          "text": [
            "Model: \"cifar10_model_BN\"\n",
            "_________________________________________________________________\n",
            " Layer (type)                Output Shape              Param #   \n",
            "=================================================================\n",
            " input_2 (InputLayer)        [(None, 32, 32, 3)]       0         \n",
            "                                                                 \n",
            " conv2d_8 (Conv2D)           (None, 32, 32, 32)        896       \n",
            "                                                                 \n",
            " batch_normalization (BatchN  (None, 32, 32, 32)       128       \n",
            " ormalization)                                                   \n",
            "                                                                 \n",
            " tf.nn.relu (TFOpLambda)     (None, 32, 32, 32)        0         \n",
            "                                                                 \n",
            " conv2d_9 (Conv2D)           (None, 32, 32, 32)        9248      \n",
            "                                                                 \n",
            " batch_normalization_1 (Batc  (None, 32, 32, 32)       128       \n",
            " hNormalization)                                                 \n",
            "                                                                 \n",
            " tf.nn.relu_1 (TFOpLambda)   (None, 32, 32, 32)        0         \n",
            "                                                                 \n",
            " max_pooling2d_4 (MaxPooling  (None, 16, 16, 32)       0         \n",
            " 2D)                                                             \n",
            "                                                                 \n",
            " conv2d_10 (Conv2D)          (None, 16, 16, 64)        18496     \n",
            "                                                                 \n",
            " batch_normalization_2 (Batc  (None, 16, 16, 64)       256       \n",
            " hNormalization)                                                 \n",
            "                                                                 \n",
            " tf.nn.relu_2 (TFOpLambda)   (None, 16, 16, 64)        0         \n",
            "                                                                 \n",
            " conv2d_11 (Conv2D)          (None, 16, 16, 64)        36928     \n",
            "                                                                 \n",
            " batch_normalization_3 (Batc  (None, 16, 16, 64)       256       \n",
            " hNormalization)                                                 \n",
            "                                                                 \n",
            " tf.nn.relu_3 (TFOpLambda)   (None, 16, 16, 64)        0         \n",
            "                                                                 \n",
            " max_pooling2d_5 (MaxPooling  (None, 8, 8, 64)         0         \n",
            " 2D)                                                             \n",
            "                                                                 \n",
            " conv2d_12 (Conv2D)          (None, 8, 8, 128)         73856     \n",
            "                                                                 \n",
            " batch_normalization_4 (Batc  (None, 8, 8, 128)        512       \n",
            " hNormalization)                                                 \n",
            "                                                                 \n",
            " tf.nn.relu_4 (TFOpLambda)   (None, 8, 8, 128)         0         \n",
            "                                                                 \n",
            " conv2d_13 (Conv2D)          (None, 8, 8, 128)         147584    \n",
            "                                                                 \n",
            " batch_normalization_5 (Batc  (None, 8, 8, 128)        512       \n",
            " hNormalization)                                                 \n",
            "                                                                 \n",
            " tf.nn.relu_5 (TFOpLambda)   (None, 8, 8, 128)         0         \n",
            "                                                                 \n",
            " max_pooling2d_6 (MaxPooling  (None, 4, 4, 128)        0         \n",
            " 2D)                                                             \n",
            "                                                                 \n",
            " conv2d_14 (Conv2D)          (None, 4, 4, 128)         147584    \n",
            "                                                                 \n",
            " batch_normalization_6 (Batc  (None, 4, 4, 128)        512       \n",
            " hNormalization)                                                 \n",
            "                                                                 \n",
            " tf.nn.relu_6 (TFOpLambda)   (None, 4, 4, 128)         0         \n",
            "                                                                 \n",
            " conv2d_15 (Conv2D)          (None, 4, 4, 128)         147584    \n",
            "                                                                 \n",
            " batch_normalization_7 (Batc  (None, 4, 4, 128)        512       \n",
            " hNormalization)                                                 \n",
            "                                                                 \n",
            " tf.nn.relu_7 (TFOpLambda)   (None, 4, 4, 128)         0         \n",
            "                                                                 \n",
            " max_pooling2d_7 (MaxPooling  (None, 2, 2, 128)        0         \n",
            " 2D)                                                             \n",
            "                                                                 \n",
            " flatten_1 (Flatten)         (None, 512)               0         \n",
            "                                                                 \n",
            " dense_5 (Dense)             (None, 128)               65664     \n",
            "                                                                 \n",
            " dense_6 (Dense)             (None, 128)               16512     \n",
            "                                                                 \n",
            " dense_7 (Dense)             (None, 64)                8256      \n",
            "                                                                 \n",
            " dense_8 (Dense)             (None, 10)                650       \n",
            "                                                                 \n",
            " dense_9 (Dense)             (None, 10)                110       \n",
            "                                                                 \n",
            "=================================================================\n",
            "Total params: 676,184\n",
            "Trainable params: 674,776\n",
            "Non-trainable params: 1,408\n",
            "_________________________________________________________________\n"
          ]
        }
      ]
    },
    {
      "cell_type": "code",
      "source": [
        "BN_model.compile(\n",
        "    optimizer = 'adam',\n",
        "    loss = keras.losses.CategoricalCrossentropy(),\n",
        "    metrics = ['accuracy']\n",
        ")"
      ],
      "metadata": {
        "id": "gjKXzTN8QMRW"
      },
      "execution_count": null,
      "outputs": []
    },
    {
      "cell_type": "code",
      "source": [
        "BN_history = BN_model.fit(x_train_norm, y_train_oh, batch_size=64, epochs=10)"
      ],
      "metadata": {
        "colab": {
          "base_uri": "https://localhost:8080/"
        },
        "id": "TiJjSEEGQTaj",
        "outputId": "399406c9-e64a-48e4-e53f-f74707445db6"
      },
      "execution_count": null,
      "outputs": [
        {
          "output_type": "stream",
          "name": "stdout",
          "text": [
            "Epoch 1/10\n",
            "782/782 [==============================] - 8s 11ms/step - loss: 0.1512 - accuracy: 0.9481\n",
            "Epoch 2/10\n",
            "782/782 [==============================] - 8s 11ms/step - loss: 0.1294 - accuracy: 0.9560\n",
            "Epoch 3/10\n",
            "782/782 [==============================] - 8s 11ms/step - loss: 0.1105 - accuracy: 0.9622\n",
            "Epoch 4/10\n",
            "782/782 [==============================] - 8s 11ms/step - loss: 0.0975 - accuracy: 0.9678\n",
            "Epoch 5/10\n",
            "782/782 [==============================] - 8s 11ms/step - loss: 0.0846 - accuracy: 0.9722\n",
            "Epoch 6/10\n",
            "782/782 [==============================] - 9s 11ms/step - loss: 0.0820 - accuracy: 0.9718\n",
            "Epoch 7/10\n",
            "782/782 [==============================] - 8s 11ms/step - loss: 0.0762 - accuracy: 0.9744\n",
            "Epoch 8/10\n",
            "782/782 [==============================] - 8s 11ms/step - loss: 0.0728 - accuracy: 0.9764\n",
            "Epoch 9/10\n",
            "782/782 [==============================] - 8s 11ms/step - loss: 0.0620 - accuracy: 0.9798\n",
            "Epoch 10/10\n",
            "782/782 [==============================] - 8s 11ms/step - loss: 0.0634 - accuracy: 0.9795\n"
          ]
        }
      ]
    },
    {
      "cell_type": "markdown",
      "source": [
        "## Model with Batch Normalization and Dropout\n",
        "Dropout is implemented per-layer in a neural network.\n",
        "\n",
        "It can be used with most types of layers, such as dense fully connected layers, convolutional layers, and recurrent layers such as the long short-term memory network layer.\n",
        "\n",
        "Dropout may be implemented on any or all hidden layers in the network as well as the visible or input layer. It is not used on the output layer.\n",
        "\n",
        "\\\n",
        "[A Gentle Introduction to Dropout for Regularizing Deep Neural Networks](https://machinelearningmastery.com/dropout-for-regularizing-deep-neural-networks/)\n",
        "\n",
        "Based on AlexNet Architecture, I used dropout layer for fully connected layers."
      ],
      "metadata": {
        "id": "J57IN2RFS2fU"
      }
    },
    {
      "cell_type": "code",
      "source": [
        "def create_model_BN_dropout(input_shape=(32, 32, 3), model_name='cifar10_model', dropout_rate=0.2):\n",
        "\n",
        "  # input layer\n",
        "  input_tensor = keras.Input(shape=input_shape)\n",
        "\n",
        "  # first convolution pair\n",
        "  X = keras.layers.Conv2D(32, 3, padding='same')(input_tensor)\n",
        "  X = keras.layers.BatchNormalization()(X)\n",
        "  X = keras.activations.relu(X)\n",
        "\n",
        "  X = keras.layers.Conv2D(32, 3, padding='same')(X)\n",
        "  X = keras.layers.BatchNormalization()(X)\n",
        "  X = keras.activations.relu(X)\n",
        "\n",
        "  X = keras.layers.MaxPool2D()(X)\n",
        "\n",
        "  # second convolution pair\n",
        "  X = keras.layers.Conv2D(64, 3, padding='same')(X)\n",
        "  X = keras.layers.BatchNormalization()(X)\n",
        "  X = keras.activations.relu(X)\n",
        "\n",
        "  X = keras.layers.Conv2D(64, 3, padding='same')(X)\n",
        "  X = keras.layers.BatchNormalization()(X)\n",
        "  X = keras.activations.relu(X)\n",
        "\n",
        "  X = keras.layers.MaxPool2D()(X)\n",
        "\n",
        "  # third convolution pair\n",
        "  X = keras.layers.Conv2D(128, 3, padding='same')(X)\n",
        "  X = keras.layers.BatchNormalization()(X)\n",
        "  X = keras.activations.relu(X)\n",
        "\n",
        "  X = keras.layers.Conv2D(128, 3, padding='same')(X)\n",
        "  X = keras.layers.BatchNormalization()(X)\n",
        "  X = keras.activations.relu(X)\n",
        "\n",
        "  X = keras.layers.MaxPool2D()(X)\n",
        "\n",
        "  # forth convolution pair\n",
        "  X = keras.layers.Conv2D(128, 3, padding='same')(X)\n",
        "  X = keras.layers.BatchNormalization()(X)\n",
        "  X = keras.activations.relu(X)\n",
        "\n",
        "  X = keras.layers.Conv2D(128, 3, padding='same')(X)\n",
        "  X = keras.layers.BatchNormalization()(X)\n",
        "  X = keras.activations.relu(X)\n",
        "\n",
        "  X = keras.layers.MaxPool2D()(X)\n",
        "\n",
        "  # fully connected layer\n",
        "  X = keras.layers.Flatten()(X)\n",
        "  X = keras.layers.Dropout(dropout_rate)(X)\n",
        "\n",
        "  X = keras.layers.Dense(128, activation='relu')(X)\n",
        "  X = keras.layers.Dropout(dropout_rate)(X)\n",
        "  \n",
        "  X = keras.layers.Dense(128, activation='relu')(X)\n",
        "  X = keras.layers.Dropout(dropout_rate)(X)\n",
        "  \n",
        "  X = keras.layers.Dense(64, activation='relu')(X)\n",
        "  X = keras.layers.Dropout(dropout_rate)(X)\n",
        "  \n",
        "  X = keras.layers.Dense(10, activation='relu')(X)\n",
        "  X = keras.layers.Dropout(dropout_rate)(X)\n",
        "  \n",
        "  X = keras.layers.Dense(10, activation='softmax')(X)\n",
        "\n",
        "  model = keras.Model(inputs=input_tensor, outputs=X, name=model_name)\n",
        "  model.summary()\n",
        "  return model"
      ],
      "metadata": {
        "id": "rbDoXIsCR-J9"
      },
      "execution_count": null,
      "outputs": []
    },
    {
      "cell_type": "code",
      "source": [
        "BN_dropout_model = create_model_BN_dropout(model_name='cifar10_model_BN_dropout')"
      ],
      "metadata": {
        "colab": {
          "base_uri": "https://localhost:8080/"
        },
        "id": "vtjOM8aAT7re",
        "outputId": "eacc3b79-9d3d-4e5d-83cf-4966b8b42dbe"
      },
      "execution_count": null,
      "outputs": [
        {
          "output_type": "stream",
          "name": "stdout",
          "text": [
            "Model: \"cifar10_model_BN_dropout\"\n",
            "_________________________________________________________________\n",
            " Layer (type)                Output Shape              Param #   \n",
            "=================================================================\n",
            " input_4 (InputLayer)        [(None, 32, 32, 3)]       0         \n",
            "                                                                 \n",
            " conv2d_24 (Conv2D)          (None, 32, 32, 32)        896       \n",
            "                                                                 \n",
            " batch_normalization_16 (Bat  (None, 32, 32, 32)       128       \n",
            " chNormalization)                                                \n",
            "                                                                 \n",
            " tf.nn.relu_16 (TFOpLambda)  (None, 32, 32, 32)        0         \n",
            "                                                                 \n",
            " conv2d_25 (Conv2D)          (None, 32, 32, 32)        9248      \n",
            "                                                                 \n",
            " batch_normalization_17 (Bat  (None, 32, 32, 32)       128       \n",
            " chNormalization)                                                \n",
            "                                                                 \n",
            " tf.nn.relu_17 (TFOpLambda)  (None, 32, 32, 32)        0         \n",
            "                                                                 \n",
            " max_pooling2d_12 (MaxPoolin  (None, 16, 16, 32)       0         \n",
            " g2D)                                                            \n",
            "                                                                 \n",
            " conv2d_26 (Conv2D)          (None, 16, 16, 64)        18496     \n",
            "                                                                 \n",
            " batch_normalization_18 (Bat  (None, 16, 16, 64)       256       \n",
            " chNormalization)                                                \n",
            "                                                                 \n",
            " tf.nn.relu_18 (TFOpLambda)  (None, 16, 16, 64)        0         \n",
            "                                                                 \n",
            " conv2d_27 (Conv2D)          (None, 16, 16, 64)        36928     \n",
            "                                                                 \n",
            " batch_normalization_19 (Bat  (None, 16, 16, 64)       256       \n",
            " chNormalization)                                                \n",
            "                                                                 \n",
            " tf.nn.relu_19 (TFOpLambda)  (None, 16, 16, 64)        0         \n",
            "                                                                 \n",
            " max_pooling2d_13 (MaxPoolin  (None, 8, 8, 64)         0         \n",
            " g2D)                                                            \n",
            "                                                                 \n",
            " conv2d_28 (Conv2D)          (None, 8, 8, 128)         73856     \n",
            "                                                                 \n",
            " batch_normalization_20 (Bat  (None, 8, 8, 128)        512       \n",
            " chNormalization)                                                \n",
            "                                                                 \n",
            " tf.nn.relu_20 (TFOpLambda)  (None, 8, 8, 128)         0         \n",
            "                                                                 \n",
            " conv2d_29 (Conv2D)          (None, 8, 8, 128)         147584    \n",
            "                                                                 \n",
            " batch_normalization_21 (Bat  (None, 8, 8, 128)        512       \n",
            " chNormalization)                                                \n",
            "                                                                 \n",
            " tf.nn.relu_21 (TFOpLambda)  (None, 8, 8, 128)         0         \n",
            "                                                                 \n",
            " max_pooling2d_14 (MaxPoolin  (None, 4, 4, 128)        0         \n",
            " g2D)                                                            \n",
            "                                                                 \n",
            " conv2d_30 (Conv2D)          (None, 4, 4, 128)         147584    \n",
            "                                                                 \n",
            " batch_normalization_22 (Bat  (None, 4, 4, 128)        512       \n",
            " chNormalization)                                                \n",
            "                                                                 \n",
            " tf.nn.relu_22 (TFOpLambda)  (None, 4, 4, 128)         0         \n",
            "                                                                 \n",
            " conv2d_31 (Conv2D)          (None, 4, 4, 128)         147584    \n",
            "                                                                 \n",
            " batch_normalization_23 (Bat  (None, 4, 4, 128)        512       \n",
            " chNormalization)                                                \n",
            "                                                                 \n",
            " tf.nn.relu_23 (TFOpLambda)  (None, 4, 4, 128)         0         \n",
            "                                                                 \n",
            " max_pooling2d_15 (MaxPoolin  (None, 2, 2, 128)        0         \n",
            " g2D)                                                            \n",
            "                                                                 \n",
            " flatten_3 (Flatten)         (None, 512)               0         \n",
            "                                                                 \n",
            " dropout_5 (Dropout)         (None, 512)               0         \n",
            "                                                                 \n",
            " dense_15 (Dense)            (None, 128)               65664     \n",
            "                                                                 \n",
            " dropout_6 (Dropout)         (None, 128)               0         \n",
            "                                                                 \n",
            " dense_16 (Dense)            (None, 128)               16512     \n",
            "                                                                 \n",
            " dropout_7 (Dropout)         (None, 128)               0         \n",
            "                                                                 \n",
            " dense_17 (Dense)            (None, 64)                8256      \n",
            "                                                                 \n",
            " dropout_8 (Dropout)         (None, 64)                0         \n",
            "                                                                 \n",
            " dense_18 (Dense)            (None, 10)                650       \n",
            "                                                                 \n",
            " dropout_9 (Dropout)         (None, 10)                0         \n",
            "                                                                 \n",
            " dense_19 (Dense)            (None, 10)                110       \n",
            "                                                                 \n",
            "=================================================================\n",
            "Total params: 676,184\n",
            "Trainable params: 674,776\n",
            "Non-trainable params: 1,408\n",
            "_________________________________________________________________\n"
          ]
        }
      ]
    },
    {
      "cell_type": "code",
      "source": [
        "BN_dropout_model.compile(\n",
        "    optimizer = 'adam',\n",
        "    loss = keras.losses.CategoricalCrossentropy(),\n",
        "    metrics = ['accuracy']\n",
        ")"
      ],
      "metadata": {
        "id": "x-u5EnMgUJ0i"
      },
      "execution_count": null,
      "outputs": []
    },
    {
      "cell_type": "code",
      "source": [
        "BN_dropout_history = BN_dropout_model.fit(x_train_norm, y_train_oh, batch_size=64, epochs=10)"
      ],
      "metadata": {
        "colab": {
          "base_uri": "https://localhost:8080/"
        },
        "id": "bio5eyEzUPQS",
        "outputId": "0b8b7ff5-bd4a-408c-af6b-c22f4ed18f0f"
      },
      "execution_count": null,
      "outputs": [
        {
          "output_type": "stream",
          "name": "stdout",
          "text": [
            "Epoch 1/10\n",
            "782/782 [==============================] - 9s 12ms/step - loss: 0.5283 - accuracy: 0.8313\n",
            "Epoch 2/10\n",
            "782/782 [==============================] - 8s 11ms/step - loss: 0.4920 - accuracy: 0.8477\n",
            "Epoch 3/10\n",
            "782/782 [==============================] - 8s 11ms/step - loss: 0.4518 - accuracy: 0.8597\n",
            "Epoch 4/10\n",
            "782/782 [==============================] - 8s 11ms/step - loss: 0.4184 - accuracy: 0.8698\n",
            "Epoch 5/10\n",
            "782/782 [==============================] - 8s 11ms/step - loss: 0.4062 - accuracy: 0.8748\n",
            "Epoch 6/10\n",
            "782/782 [==============================] - 8s 11ms/step - loss: 0.3870 - accuracy: 0.8817\n",
            "Epoch 7/10\n",
            "782/782 [==============================] - 8s 11ms/step - loss: 0.3697 - accuracy: 0.8854\n",
            "Epoch 8/10\n",
            "782/782 [==============================] - 8s 11ms/step - loss: 0.3448 - accuracy: 0.8946\n",
            "Epoch 9/10\n",
            "782/782 [==============================] - 8s 11ms/step - loss: 0.3259 - accuracy: 0.9004\n",
            "Epoch 10/10\n",
            "782/782 [==============================] - 8s 11ms/step - loss: 0.3350 - accuracy: 0.8970\n"
          ]
        }
      ]
    },
    {
      "cell_type": "code",
      "source": [
        "def draw_history_graph(history, title):\n",
        "  accuracy = history.history['accuracy']\n",
        "  loss = history.history['loss']\n",
        "  epochs_num = len(loss)\n",
        "\n",
        "  plt.figure(figsize=(15, 5))\n",
        "  plt.subplot(1, 2, 1)\n",
        "  plt.xlabel('epoch')\n",
        "  plt.ylabel('cost')\n",
        "  plt.title(title + ' Loss')\n",
        "  plt.plot(range(1, epochs_num+1), loss)\n",
        "  plt.subplot(1, 2, 2)\n",
        "  plt.xlabel('epoch')\n",
        "  plt.ylabel('accuracy')\n",
        "  plt.title(title + ' Accuracy')\n",
        "  plt.plot(range(1, epochs_num+1), accuracy)"
      ],
      "metadata": {
        "id": "lgL9H9JgYzGw"
      },
      "execution_count": null,
      "outputs": []
    },
    {
      "cell_type": "code",
      "source": [
        "draw_history_graph(simple_history, 'Simple Model')"
      ],
      "metadata": {
        "colab": {
          "base_uri": "https://localhost:8080/",
          "height": 350
        },
        "id": "pFGaAr0Xa2m-",
        "outputId": "58f6ad99-630d-4570-a2f7-7406ca51f53f"
      },
      "execution_count": null,
      "outputs": [
        {
          "output_type": "display_data",
          "data": {
            "text/plain": [
              "<Figure size 1080x360 with 2 Axes>"
            ],
            "image/png": "[encoded data removed]"
          },
          "metadata": {
            "needs_background": "light"
          }
        }
      ]
    },
    {
      "cell_type": "code",
      "source": [
        "draw_history_graph(BN_history, 'BN Model')"
      ],
      "metadata": {
        "colab": {
          "base_uri": "https://localhost:8080/",
          "height": 350
        },
        "id": "h2pzid9Ka4g-",
        "outputId": "021f6c58-9fe7-4538-a905-fc9d1dc161f5"
      },
      "execution_count": null,
      "outputs": [
        {
          "output_type": "display_data",
          "data": {
            "text/plain": [
              "<Figure size 1080x360 with 2 Axes>"
            ],
            "image/png": "[encoded data removed]"
          },
          "metadata": {
            "needs_background": "light"
          }
        }
      ]
    },
    {
      "cell_type": "code",
      "source": [
        "draw_history_graph(BN_dropout_history, 'BN dropout Model')"
      ],
      "metadata": {
        "colab": {
          "base_uri": "https://localhost:8080/",
          "height": 350
        },
        "id": "8szFQAPZa-_G",
        "outputId": "43dd20c0-44b0-403d-f322-5f1b88ec8d6c"
      },
      "execution_count": null,
      "outputs": [
        {
          "output_type": "display_data",
          "data": {
            "text/plain": [
              "<Figure size 1080x360 with 2 Axes>"
            ],
            "image/png": "[encoded data removed]"
          },
          "metadata": {
            "needs_background": "light"
          }
        }
      ]
    },
    {
      "cell_type": "markdown",
      "source": [
        "# Metrics\n",
        "||Positive Prediction|Negative Prediction|\n",
        "|-|-|-|\n",
        "|**Positive Class**|True Positive (TP)|False Negative (FN)|\n",
        "|**Negative Class**|False Positive (FP)|True Negative (TN)|\n",
        "\n",
        "- Precision: the fraction of relevant instances among the retrieved instances\n",
        "$$Precision = \\frac{TP}{TP+FP}$$\n",
        "- Recall: the fraction of relevant instances that were retrieved\n",
        "$$Recall = \\frac{TP}{TP + FN}$$\n",
        "- F1 score:\n",
        "$$F1 score = \\frac{2 (precision \\times recall)}{precision + recall}$$"
      ],
      "metadata": {
        "id": "ulopYSspdLMm"
      }
    },
    {
      "cell_type": "markdown",
      "source": [
        "# Optimizers\n",
        "in this notebook, we're going to check following optimizers\n",
        "- Stochastic Gradient Descent (SGD)\n",
        "- Root Mean Squared Propagation (RMSprop)\n",
        "- ADAM"
      ],
      "metadata": {
        "id": "04DXJd0-b1yV"
      }
    },
    {
      "cell_type": "markdown",
      "source": [
        "## Stochastic Gradient Descent\n",
        "this is Gradient descent (with momentum) optimizer. momentum is a coefficient which decrease oscillation towards optimum. we will check this optimizer with last model (model with BN and dropout)."
      ],
      "metadata": {
        "id": "GkwH6qOXchZN"
      }
    },
    {
      "cell_type": "code",
      "source": [
        "BN_dropout_model = create_model_BN_dropout(model_name='cifar10_model_BN_dropout')\n",
        "BN_dropout_model.compile(\n",
        "    optimizer = 'sgd',\n",
        "    loss = keras.losses.CategoricalCrossentropy(),\n",
        "    metrics = ['accuracy', 'Precision', 'Recall']\n",
        ")"
      ],
      "metadata": {
        "id": "eE3huVyZdFPw",
        "colab": {
          "base_uri": "https://localhost:8080/"
        },
        "outputId": "2879b614-a5cf-4991-89a3-263768160399"
      },
      "execution_count": null,
      "outputs": [
        {
          "output_type": "stream",
          "name": "stdout",
          "text": [
            "Model: \"cifar10_model_BN_dropout\"\n",
            "_________________________________________________________________\n",
            " Layer (type)                Output Shape              Param #   \n",
            "=================================================================\n",
            " input_9 (InputLayer)        [(None, 32, 32, 3)]       0         \n",
            "                                                                 \n",
            " conv2d_64 (Conv2D)          (None, 32, 32, 32)        896       \n",
            "                                                                 \n",
            " batch_normalization_48 (Bat  (None, 32, 32, 32)       128       \n",
            " chNormalization)                                                \n",
            "                                                                 \n",
            " tf.nn.relu_48 (TFOpLambda)  (None, 32, 32, 32)        0         \n",
            "                                                                 \n",
            " conv2d_65 (Conv2D)          (None, 32, 32, 32)        9248      \n",
            "                                                                 \n",
            " batch_normalization_49 (Bat  (None, 32, 32, 32)       128       \n",
            " chNormalization)                                                \n",
            "                                                                 \n",
            " tf.nn.relu_49 (TFOpLambda)  (None, 32, 32, 32)        0         \n",
            "                                                                 \n",
            " max_pooling2d_32 (MaxPoolin  (None, 16, 16, 32)       0         \n",
            " g2D)                                                            \n",
            "                                                                 \n",
            " conv2d_66 (Conv2D)          (None, 16, 16, 64)        18496     \n",
            "                                                                 \n",
            " batch_normalization_50 (Bat  (None, 16, 16, 64)       256       \n",
            " chNormalization)                                                \n",
            "                                                                 \n",
            " tf.nn.relu_50 (TFOpLambda)  (None, 16, 16, 64)        0         \n",
            "                                                                 \n",
            " conv2d_67 (Conv2D)          (None, 16, 16, 64)        36928     \n",
            "                                                                 \n",
            " batch_normalization_51 (Bat  (None, 16, 16, 64)       256       \n",
            " chNormalization)                                                \n",
            "                                                                 \n",
            " tf.nn.relu_51 (TFOpLambda)  (None, 16, 16, 64)        0         \n",
            "                                                                 \n",
            " max_pooling2d_33 (MaxPoolin  (None, 8, 8, 64)         0         \n",
            " g2D)                                                            \n",
            "                                                                 \n",
            " conv2d_68 (Conv2D)          (None, 8, 8, 128)         73856     \n",
            "                                                                 \n",
            " batch_normalization_52 (Bat  (None, 8, 8, 128)        512       \n",
            " chNormalization)                                                \n",
            "                                                                 \n",
            " tf.nn.relu_52 (TFOpLambda)  (None, 8, 8, 128)         0         \n",
            "                                                                 \n",
            " conv2d_69 (Conv2D)          (None, 8, 8, 128)         147584    \n",
            "                                                                 \n",
            " batch_normalization_53 (Bat  (None, 8, 8, 128)        512       \n",
            " chNormalization)                                                \n",
            "                                                                 \n",
            " tf.nn.relu_53 (TFOpLambda)  (None, 8, 8, 128)         0         \n",
            "                                                                 \n",
            " max_pooling2d_34 (MaxPoolin  (None, 4, 4, 128)        0         \n",
            " g2D)                                                            \n",
            "                                                                 \n",
            " conv2d_70 (Conv2D)          (None, 4, 4, 128)         147584    \n",
            "                                                                 \n",
            " batch_normalization_54 (Bat  (None, 4, 4, 128)        512       \n",
            " chNormalization)                                                \n",
            "                                                                 \n",
            " tf.nn.relu_54 (TFOpLambda)  (None, 4, 4, 128)         0         \n",
            "                                                                 \n",
            " conv2d_71 (Conv2D)          (None, 4, 4, 128)         147584    \n",
            "                                                                 \n",
            " batch_normalization_55 (Bat  (None, 4, 4, 128)        512       \n",
            " chNormalization)                                                \n",
            "                                                                 \n",
            " tf.nn.relu_55 (TFOpLambda)  (None, 4, 4, 128)         0         \n",
            "                                                                 \n",
            " max_pooling2d_35 (MaxPoolin  (None, 2, 2, 128)        0         \n",
            " g2D)                                                            \n",
            "                                                                 \n",
            " flatten_8 (Flatten)         (None, 512)               0         \n",
            "                                                                 \n",
            " dropout_25 (Dropout)        (None, 512)               0         \n",
            "                                                                 \n",
            " dense_40 (Dense)            (None, 128)               65664     \n",
            "                                                                 \n",
            " dropout_26 (Dropout)        (None, 128)               0         \n",
            "                                                                 \n",
            " dense_41 (Dense)            (None, 128)               16512     \n",
            "                                                                 \n",
            " dropout_27 (Dropout)        (None, 128)               0         \n",
            "                                                                 \n",
            " dense_42 (Dense)            (None, 64)                8256      \n",
            "                                                                 \n",
            " dropout_28 (Dropout)        (None, 64)                0         \n",
            "                                                                 \n",
            " dense_43 (Dense)            (None, 10)                650       \n",
            "                                                                 \n",
            " dropout_29 (Dropout)        (None, 10)                0         \n",
            "                                                                 \n",
            " dense_44 (Dense)            (None, 10)                110       \n",
            "                                                                 \n",
            "=================================================================\n",
            "Total params: 676,184\n",
            "Trainable params: 674,776\n",
            "Non-trainable params: 1,408\n",
            "_________________________________________________________________\n"
          ]
        }
      ]
    },
    {
      "cell_type": "code",
      "source": [
        "BN_dropout_history_sgd = BN_dropout_model.fit(x_train_norm, y_train_oh, batch_size=64, epochs=10)"
      ],
      "metadata": {
        "colab": {
          "base_uri": "https://localhost:8080/"
        },
        "id": "YkmsX76qheD_",
        "outputId": "452e4c7c-fcb1-48bd-9630-fd88aa3619a6"
      },
      "execution_count": null,
      "outputs": [
        {
          "output_type": "stream",
          "name": "stdout",
          "text": [
            "Epoch 1/10\n",
            "782/782 [==============================] - 10s 11ms/step - loss: 2.1304 - accuracy: 0.1939 - precision: 0.4974 - recall: 0.0155\n",
            "Epoch 2/10\n",
            "782/782 [==============================] - 8s 11ms/step - loss: 1.8098 - accuracy: 0.3042 - precision: 0.5485 - recall: 0.0674\n",
            "Epoch 3/10\n",
            "782/782 [==============================] - 9s 11ms/step - loss: 1.6475 - accuracy: 0.3754 - precision: 0.6179 - recall: 0.1335\n",
            "Epoch 4/10\n",
            "782/782 [==============================] - 9s 11ms/step - loss: 1.5175 - accuracy: 0.4306 - precision: 0.6648 - recall: 0.2049\n",
            "Epoch 5/10\n",
            "782/782 [==============================] - 9s 11ms/step - loss: 1.3991 - accuracy: 0.4765 - precision: 0.6946 - recall: 0.2671\n",
            "Epoch 6/10\n",
            "782/782 [==============================] - 9s 11ms/step - loss: 1.2966 - accuracy: 0.5230 - precision: 0.7310 - recall: 0.3294\n",
            "Epoch 7/10\n",
            "782/782 [==============================] - 9s 11ms/step - loss: 1.2045 - accuracy: 0.5647 - precision: 0.7579 - recall: 0.3821\n",
            "Epoch 8/10\n",
            "782/782 [==============================] - 9s 11ms/step - loss: 1.1158 - accuracy: 0.6048 - precision: 0.7856 - recall: 0.4353\n",
            "Epoch 9/10\n",
            "782/782 [==============================] - 9s 11ms/step - loss: 1.0390 - accuracy: 0.6339 - precision: 0.7986 - recall: 0.4797\n",
            "Epoch 10/10\n",
            "782/782 [==============================] - 8s 11ms/step - loss: 0.9812 - accuracy: 0.6573 - precision: 0.8112 - recall: 0.5109\n"
          ]
        }
      ]
    },
    {
      "cell_type": "code",
      "source": [
        "draw_history_graph(BN_dropout_history_sgd, 'BN dropout Model + SGD')"
      ],
      "metadata": {
        "colab": {
          "base_uri": "https://localhost:8080/",
          "height": 350
        },
        "id": "Uw3oIhIBigIR",
        "outputId": "8d5420f3-c4f0-4cb7-887e-12c14819a57e"
      },
      "execution_count": null,
      "outputs": [
        {
          "output_type": "display_data",
          "data": {
            "text/plain": [
              "<Figure size 1080x360 with 2 Axes>"
            ],
            "image/png": "[encoded data removed]"
          },
          "metadata": {
            "needs_background": "light"
          }
        }
      ]
    },
    {
      "cell_type": "code",
      "source": [
        "sgd_loss, sgd_accuracy, sgd_precision, sgd_recall = BN_dropout_model.evaluate(x_test_norm, y_test_oh)\n",
        "print(f'loss= {sgd_loss}')\n",
        "print(f'accuracy= {sgd_accuracy}')\n",
        "print(f'precision= {sgd_precision}')\n",
        "print(f'recall= {sgd_recall}')"
      ],
      "metadata": {
        "colab": {
          "base_uri": "https://localhost:8080/"
        },
        "id": "2xDAH4m1wZvb",
        "outputId": "4fbe89b3-bdca-4075-d750-1b043f63c2d3"
      },
      "execution_count": null,
      "outputs": [
        {
          "output_type": "stream",
          "name": "stdout",
          "text": [
            "313/313 [==============================] - 2s 5ms/step - loss: 1.0277 - accuracy: 0.6484 - precision: 0.7711 - recall: 0.5251\n",
            "loss= 1.027726173400879\n",
            "accuracy= 0.6484000086784363\n",
            "precision= 0.7710719704627991\n",
            "recall= 0.5250999927520752\n"
          ]
        }
      ]
    },
    {
      "cell_type": "code",
      "source": [
        "print('Confusion Matrix\\n',confusion_matrix(y_test, np.argmax(BN_dropout_model(x_test), axis=1)), sep='')"
      ],
      "metadata": {
        "colab": {
          "base_uri": "https://localhost:8080/"
        },
        "id": "-zl6N2MqthBA",
        "outputId": "b2aea79b-ef8c-400c-a36f-08883c79c5f3"
      },
      "execution_count": null,
      "outputs": [
        {
          "output_type": "stream",
          "name": "stdout",
          "text": [
            "Confusion Matrix\n",
            "[[  3 906   0   0   0   0   0  34   0  57]\n",
            " [  0 945   0   0   0   0   0  19   0  36]\n",
            " [  0 724   0   0   0   0   0 113   0 163]\n",
            " [  5 688   0   0   0   0   0 137   0 170]\n",
            " [  1 701   0   0   0   0   0 148   0 150]\n",
            " [  0 617   0   0   0   0   0 204   0 179]\n",
            " [  2 723   0   0   0   0   0 134   0 141]\n",
            " [  1 361   0   0   0   0   0 468   0 170]\n",
            " [  0 883   0   0   0   0   0  21   0  96]\n",
            " [  1 616   0   0   0   0   0 109   0 274]]\n"
          ]
        }
      ]
    },
    {
      "cell_type": "markdown",
      "source": [
        "## Root Mean Squared Propagation (RMSprop)\n",
        "Optimizer that implements the RMSprop algorithm.\n",
        "\n",
        "The gist of RMSprop is to:\n",
        "\n",
        "- Maintain a moving (discounted) average of the square of gradients\n",
        "- Divide the gradient by the root of this average\n",
        "\n",
        "A limitation of gradient descent is that it uses the same step size (learning rate) for each input variable. AdaGrad, for short, is an extension of the gradient descent optimization algorithm that allows the step size in each dimension used by the optimization algorithm to be automatically adapted based on the gradients seen for the variable (partial derivatives) over the course of the search.\n",
        "\n",
        "A limitation of AdaGrad is that it can result in a very small step size for each parameter by the end of the search that can slow the progress of the search down too much and may mean not locating the optima.\n",
        "\n",
        "Root Mean Squared Propagation, or RMSProp, is an extension of gradient descent and the AdaGrad version of gradient descent that uses a decaying average of partial gradients in the adaptation of the step size for each parameter. The use of a decaying moving average allows the algorithm to forget early gradients and focus on the most recently observed partial gradients seen during the progress of the search, overcoming the limitation of AdaGrad.\n",
        "\n",
        "\\\n",
        "[Gradient Descent With RMSProp from Scratch](https://machinelearningmastery.com/gradient-descent-with-rmsprop-from-scratch/)\n"
      ],
      "metadata": {
        "id": "6jYV3vXUir_5"
      }
    },
    {
      "cell_type": "code",
      "source": [
        "BN_dropout_model = create_model_BN_dropout(model_name='cifar10_model_BN_dropout')\n",
        "BN_dropout_model.compile(\n",
        "    optimizer = 'rmsprop',\n",
        "    loss = keras.losses.CategoricalCrossentropy(),\n",
        "    metrics = ['accuracy', 'Precision', 'Recall']\n",
        ")"
      ],
      "metadata": {
        "colab": {
          "base_uri": "https://localhost:8080/"
        },
        "id": "IyPpoRCciuQx",
        "outputId": "1561e245-be0f-45df-9d94-01a9ef46b643"
      },
      "execution_count": null,
      "outputs": [
        {
          "output_type": "stream",
          "name": "stdout",
          "text": [
            "Model: \"cifar10_model_BN_dropout\"\n",
            "_________________________________________________________________\n",
            " Layer (type)                Output Shape              Param #   \n",
            "=================================================================\n",
            " input_10 (InputLayer)       [(None, 32, 32, 3)]       0         \n",
            "                                                                 \n",
            " conv2d_72 (Conv2D)          (None, 32, 32, 32)        896       \n",
            "                                                                 \n",
            " batch_normalization_56 (Bat  (None, 32, 32, 32)       128       \n",
            " chNormalization)                                                \n",
            "                                                                 \n",
            " tf.nn.relu_56 (TFOpLambda)  (None, 32, 32, 32)        0         \n",
            "                                                                 \n",
            " conv2d_73 (Conv2D)          (None, 32, 32, 32)        9248      \n",
            "                                                                 \n",
            " batch_normalization_57 (Bat  (None, 32, 32, 32)       128       \n",
            " chNormalization)                                                \n",
            "                                                                 \n",
            " tf.nn.relu_57 (TFOpLambda)  (None, 32, 32, 32)        0         \n",
            "                                                                 \n",
            " max_pooling2d_36 (MaxPoolin  (None, 16, 16, 32)       0         \n",
            " g2D)                                                            \n",
            "                                                                 \n",
            " conv2d_74 (Conv2D)          (None, 16, 16, 64)        18496     \n",
            "                                                                 \n",
            " batch_normalization_58 (Bat  (None, 16, 16, 64)       256       \n",
            " chNormalization)                                                \n",
            "                                                                 \n",
            " tf.nn.relu_58 (TFOpLambda)  (None, 16, 16, 64)        0         \n",
            "                                                                 \n",
            " conv2d_75 (Conv2D)          (None, 16, 16, 64)        36928     \n",
            "                                                                 \n",
            " batch_normalization_59 (Bat  (None, 16, 16, 64)       256       \n",
            " chNormalization)                                                \n",
            "                                                                 \n",
            " tf.nn.relu_59 (TFOpLambda)  (None, 16, 16, 64)        0         \n",
            "                                                                 \n",
            " max_pooling2d_37 (MaxPoolin  (None, 8, 8, 64)         0         \n",
            " g2D)                                                            \n",
            "                                                                 \n",
            " conv2d_76 (Conv2D)          (None, 8, 8, 128)         73856     \n",
            "                                                                 \n",
            " batch_normalization_60 (Bat  (None, 8, 8, 128)        512       \n",
            " chNormalization)                                                \n",
            "                                                                 \n",
            " tf.nn.relu_60 (TFOpLambda)  (None, 8, 8, 128)         0         \n",
            "                                                                 \n",
            " conv2d_77 (Conv2D)          (None, 8, 8, 128)         147584    \n",
            "                                                                 \n",
            " batch_normalization_61 (Bat  (None, 8, 8, 128)        512       \n",
            " chNormalization)                                                \n",
            "                                                                 \n",
            " tf.nn.relu_61 (TFOpLambda)  (None, 8, 8, 128)         0         \n",
            "                                                                 \n",
            " max_pooling2d_38 (MaxPoolin  (None, 4, 4, 128)        0         \n",
            " g2D)                                                            \n",
            "                                                                 \n",
            " conv2d_78 (Conv2D)          (None, 4, 4, 128)         147584    \n",
            "                                                                 \n",
            " batch_normalization_62 (Bat  (None, 4, 4, 128)        512       \n",
            " chNormalization)                                                \n",
            "                                                                 \n",
            " tf.nn.relu_62 (TFOpLambda)  (None, 4, 4, 128)         0         \n",
            "                                                                 \n",
            " conv2d_79 (Conv2D)          (None, 4, 4, 128)         147584    \n",
            "                                                                 \n",
            " batch_normalization_63 (Bat  (None, 4, 4, 128)        512       \n",
            " chNormalization)                                                \n",
            "                                                                 \n",
            " tf.nn.relu_63 (TFOpLambda)  (None, 4, 4, 128)         0         \n",
            "                                                                 \n",
            " max_pooling2d_39 (MaxPoolin  (None, 2, 2, 128)        0         \n",
            " g2D)                                                            \n",
            "                                                                 \n",
            " flatten_9 (Flatten)         (None, 512)               0         \n",
            "                                                                 \n",
            " dropout_30 (Dropout)        (None, 512)               0         \n",
            "                                                                 \n",
            " dense_45 (Dense)            (None, 128)               65664     \n",
            "                                                                 \n",
            " dropout_31 (Dropout)        (None, 128)               0         \n",
            "                                                                 \n",
            " dense_46 (Dense)            (None, 128)               16512     \n",
            "                                                                 \n",
            " dropout_32 (Dropout)        (None, 128)               0         \n",
            "                                                                 \n",
            " dense_47 (Dense)            (None, 64)                8256      \n",
            "                                                                 \n",
            " dropout_33 (Dropout)        (None, 64)                0         \n",
            "                                                                 \n",
            " dense_48 (Dense)            (None, 10)                650       \n",
            "                                                                 \n",
            " dropout_34 (Dropout)        (None, 10)                0         \n",
            "                                                                 \n",
            " dense_49 (Dense)            (None, 10)                110       \n",
            "                                                                 \n",
            "=================================================================\n",
            "Total params: 676,184\n",
            "Trainable params: 674,776\n",
            "Non-trainable params: 1,408\n",
            "_________________________________________________________________\n"
          ]
        }
      ]
    },
    {
      "cell_type": "code",
      "source": [
        "BN_dropout_history_rmsprop = BN_dropout_model.fit(x_train_norm, y_train_oh, batch_size=64, epochs=10)"
      ],
      "metadata": {
        "colab": {
          "base_uri": "https://localhost:8080/"
        },
        "id": "mcN2XM7Ni2Cd",
        "outputId": "bfcac69c-eca5-4153-adcc-8ffabae0c2dd"
      },
      "execution_count": null,
      "outputs": [
        {
          "output_type": "stream",
          "name": "stdout",
          "text": [
            "Epoch 1/10\n",
            "782/782 [==============================] - 12s 13ms/step - loss: 1.8243 - accuracy: 0.3200 - precision: 0.6144 - recall: 0.1060\n",
            "Epoch 2/10\n",
            "782/782 [==============================] - 10s 13ms/step - loss: 1.3650 - accuracy: 0.5183 - precision: 0.7327 - recall: 0.3246\n",
            "Epoch 3/10\n",
            "782/782 [==============================] - 10s 13ms/step - loss: 1.1417 - accuracy: 0.6179 - precision: 0.7987 - recall: 0.4492\n",
            "Epoch 4/10\n",
            "782/782 [==============================] - 10s 13ms/step - loss: 1.0125 - accuracy: 0.6666 - precision: 0.8309 - recall: 0.5177\n",
            "Epoch 5/10\n",
            "782/782 [==============================] - 10s 13ms/step - loss: 0.9130 - accuracy: 0.7030 - precision: 0.8504 - recall: 0.5646\n",
            "Epoch 6/10\n",
            "782/782 [==============================] - 10s 13ms/step - loss: 0.8440 - accuracy: 0.7283 - precision: 0.8594 - recall: 0.6020\n",
            "Epoch 7/10\n",
            "782/782 [==============================] - 10s 13ms/step - loss: 0.7770 - accuracy: 0.7569 - precision: 0.8693 - recall: 0.6479\n",
            "Epoch 8/10\n",
            "782/782 [==============================] - 10s 13ms/step - loss: 0.7329 - accuracy: 0.7709 - precision: 0.8767 - recall: 0.6743\n",
            "Epoch 9/10\n",
            "782/782 [==============================] - 11s 14ms/step - loss: 0.6933 - accuracy: 0.7849 - precision: 0.8853 - recall: 0.6937\n",
            "Epoch 10/10\n",
            "782/782 [==============================] - 10s 13ms/step - loss: 0.6536 - accuracy: 0.7959 - precision: 0.8872 - recall: 0.7129\n"
          ]
        }
      ]
    },
    {
      "cell_type": "code",
      "source": [
        "draw_history_graph(BN_dropout_history_rmsprop, 'BN dropout Model + RMSprop')"
      ],
      "metadata": {
        "colab": {
          "base_uri": "https://localhost:8080/",
          "height": 350
        },
        "id": "aDYscA4ljZyr",
        "outputId": "bd06f325-6349-4459-857f-f470a3d2e080"
      },
      "execution_count": null,
      "outputs": [
        {
          "output_type": "display_data",
          "data": {
            "text/plain": [
              "<Figure size 1080x360 with 2 Axes>"
            ],
            "image/png": "[encoded data removed]"
          },
          "metadata": {
            "needs_background": "light"
          }
        }
      ]
    },
    {
      "cell_type": "code",
      "source": [
        "rmsprop_loss, rmsprop_accuracy, rmsprop_precision, rmsprop_recall = BN_dropout_model.evaluate(x_test_norm, y_test_oh)\n",
        "print(f'loss= {rmsprop_loss}')\n",
        "print(f'accuracy= {rmsprop_accuracy}')\n",
        "print(f'precision= {rmsprop_precision}')\n",
        "print(f'recall= {rmsprop_recall}')"
      ],
      "metadata": {
        "colab": {
          "base_uri": "https://localhost:8080/"
        },
        "id": "ozulPWc4vqQ6",
        "outputId": "7c3310f0-b695-4982-8596-bc1a328a30b6"
      },
      "execution_count": null,
      "outputs": [
        {
          "output_type": "stream",
          "name": "stdout",
          "text": [
            "313/313 [==============================] - 2s 6ms/step - loss: 0.8976 - accuracy: 0.7483 - precision: 0.8278 - recall: 0.6872\n",
            "loss= 0.8976079821586609\n",
            "accuracy= 0.7483000159263611\n",
            "precision= 0.8277523517608643\n",
            "recall= 0.6872000098228455\n"
          ]
        }
      ]
    },
    {
      "cell_type": "code",
      "source": [
        "print('Confusion Matrix\\n',confusion_matrix(y_test, np.argmax(BN_dropout_model(x_test), axis=1)), sep='')"
      ],
      "metadata": {
        "id": "jOB_tlDosR1a",
        "colab": {
          "base_uri": "https://localhost:8080/"
        },
        "outputId": "71a09497-4e3e-47d7-aebb-30f955b1f6fe"
      },
      "execution_count": null,
      "outputs": [
        {
          "output_type": "stream",
          "name": "stdout",
          "text": [
            "Confusion Matrix\n",
            "[[   0 1000    0    0    0    0    0    0    0    0]\n",
            " [   0 1000    0    0    0    0    0    0    0    0]\n",
            " [   0  999    0    0    0    0    0    0    0    1]\n",
            " [   0  998    0    0    0    0    0    0    0    2]\n",
            " [   0  998    0    0    0    0    0    0    0    2]\n",
            " [   0  988    0    0    0    0    0    1    0   11]\n",
            " [   0  999    0    0    0    0    0    0    0    1]\n",
            " [   0  973    0    0    0    0    0    6    0   21]\n",
            " [   0 1000    0    0    0    0    0    0    0    0]\n",
            " [   0  997    0    0    0    0    0    0    0    3]]\n"
          ]
        }
      ]
    },
    {
      "cell_type": "markdown",
      "source": [
        "## Adam\n",
        "Adam is different to classical stochastic gradient descent.\n",
        "\n",
        "Stochastic gradient descent maintains a single learning rate (termed alpha) for all weight updates and the learning rate does not change during training.\n",
        "\n",
        "A learning rate is maintained for each network weight (parameter) and separately adapted as learning unfolds.\n",
        "\n",
        "The authors describe Adam as combining the advantages of two other extensions of stochastic gradient descent. Specifically:\n",
        "\n",
        "- Adaptive Gradient Algorithm (AdaGrad) that maintains a per-parameter learning rate that improves performance on problems with sparse gradients (e.g. natural language and computer vision problems).\n",
        "- Root Mean Square Propagation (RMSProp) that also maintains per-parameter learning rates that are adapted based on the average of recent magnitudes of the gradients for the weight (e.g. how quickly it is changing). This means the algorithm does well on online and non-stationary problems (e.g. noisy).\n",
        "\n",
        "Adam realizes the benefits of both AdaGrad and RMSProp.\n",
        "\n",
        "Instead of adapting the parameter learning rates based on the average first moment (the mean) as in RMSProp, Adam also makes use of the average of the second moments of the gradients (the uncentered variance).\n",
        "\n",
        "Specifically, the algorithm calculates an exponential moving average of the gradient and the squared gradient, and the parameters beta1 and beta2 control the decay rates of these moving averages.\n",
        "\n",
        "\\\n",
        "[Gentle Introduction to the Adam Optimization Algorithm for Deep Learning](https://machinelearningmastery.com/adam-optimization-algorithm-for-deep-learning/)"
      ],
      "metadata": {
        "id": "J-mB71objlcT"
      }
    },
    {
      "cell_type": "code",
      "source": [
        "BN_dropout_model = create_model_BN_dropout(model_name='cifar10_model_BN_dropout')\n",
        "BN_dropout_model.compile(\n",
        "    optimizer = 'adam',\n",
        "    loss = keras.losses.CategoricalCrossentropy(),\n",
        "    metrics = ['accuracy', 'Precision', 'Recall']\n",
        ")"
      ],
      "metadata": {
        "colab": {
          "base_uri": "https://localhost:8080/"
        },
        "id": "uALnHUzTjoRa",
        "outputId": "4233cfd2-6400-4c25-a388-61e8b272ff9a"
      },
      "execution_count": null,
      "outputs": [
        {
          "output_type": "stream",
          "name": "stdout",
          "text": [
            "Model: \"cifar10_model_BN_dropout\"\n",
            "_________________________________________________________________\n",
            " Layer (type)                Output Shape              Param #   \n",
            "=================================================================\n",
            " input_11 (InputLayer)       [(None, 32, 32, 3)]       0         \n",
            "                                                                 \n",
            " conv2d_80 (Conv2D)          (None, 32, 32, 32)        896       \n",
            "                                                                 \n",
            " batch_normalization_64 (Bat  (None, 32, 32, 32)       128       \n",
            " chNormalization)                                                \n",
            "                                                                 \n",
            " tf.nn.relu_64 (TFOpLambda)  (None, 32, 32, 32)        0         \n",
            "                                                                 \n",
            " conv2d_81 (Conv2D)          (None, 32, 32, 32)        9248      \n",
            "                                                                 \n",
            " batch_normalization_65 (Bat  (None, 32, 32, 32)       128       \n",
            " chNormalization)                                                \n",
            "                                                                 \n",
            " tf.nn.relu_65 (TFOpLambda)  (None, 32, 32, 32)        0         \n",
            "                                                                 \n",
            " max_pooling2d_40 (MaxPoolin  (None, 16, 16, 32)       0         \n",
            " g2D)                                                            \n",
            "                                                                 \n",
            " conv2d_82 (Conv2D)          (None, 16, 16, 64)        18496     \n",
            "                                                                 \n",
            " batch_normalization_66 (Bat  (None, 16, 16, 64)       256       \n",
            " chNormalization)                                                \n",
            "                                                                 \n",
            " tf.nn.relu_66 (TFOpLambda)  (None, 16, 16, 64)        0         \n",
            "                                                                 \n",
            " conv2d_83 (Conv2D)          (None, 16, 16, 64)        36928     \n",
            "                                                                 \n",
            " batch_normalization_67 (Bat  (None, 16, 16, 64)       256       \n",
            " chNormalization)                                                \n",
            "                                                                 \n",
            " tf.nn.relu_67 (TFOpLambda)  (None, 16, 16, 64)        0         \n",
            "                                                                 \n",
            " max_pooling2d_41 (MaxPoolin  (None, 8, 8, 64)         0         \n",
            " g2D)                                                            \n",
            "                                                                 \n",
            " conv2d_84 (Conv2D)          (None, 8, 8, 128)         73856     \n",
            "                                                                 \n",
            " batch_normalization_68 (Bat  (None, 8, 8, 128)        512       \n",
            " chNormalization)                                                \n",
            "                                                                 \n",
            " tf.nn.relu_68 (TFOpLambda)  (None, 8, 8, 128)         0         \n",
            "                                                                 \n",
            " conv2d_85 (Conv2D)          (None, 8, 8, 128)         147584    \n",
            "                                                                 \n",
            " batch_normalization_69 (Bat  (None, 8, 8, 128)        512       \n",
            " chNormalization)                                                \n",
            "                                                                 \n",
            " tf.nn.relu_69 (TFOpLambda)  (None, 8, 8, 128)         0         \n",
            "                                                                 \n",
            " max_pooling2d_42 (MaxPoolin  (None, 4, 4, 128)        0         \n",
            " g2D)                                                            \n",
            "                                                                 \n",
            " conv2d_86 (Conv2D)          (None, 4, 4, 128)         147584    \n",
            "                                                                 \n",
            " batch_normalization_70 (Bat  (None, 4, 4, 128)        512       \n",
            " chNormalization)                                                \n",
            "                                                                 \n",
            " tf.nn.relu_70 (TFOpLambda)  (None, 4, 4, 128)         0         \n",
            "                                                                 \n",
            " conv2d_87 (Conv2D)          (None, 4, 4, 128)         147584    \n",
            "                                                                 \n",
            " batch_normalization_71 (Bat  (None, 4, 4, 128)        512       \n",
            " chNormalization)                                                \n",
            "                                                                 \n",
            " tf.nn.relu_71 (TFOpLambda)  (None, 4, 4, 128)         0         \n",
            "                                                                 \n",
            " max_pooling2d_43 (MaxPoolin  (None, 2, 2, 128)        0         \n",
            " g2D)                                                            \n",
            "                                                                 \n",
            " flatten_10 (Flatten)        (None, 512)               0         \n",
            "                                                                 \n",
            " dropout_35 (Dropout)        (None, 512)               0         \n",
            "                                                                 \n",
            " dense_50 (Dense)            (None, 128)               65664     \n",
            "                                                                 \n",
            " dropout_36 (Dropout)        (None, 128)               0         \n",
            "                                                                 \n",
            " dense_51 (Dense)            (None, 128)               16512     \n",
            "                                                                 \n",
            " dropout_37 (Dropout)        (None, 128)               0         \n",
            "                                                                 \n",
            " dense_52 (Dense)            (None, 64)                8256      \n",
            "                                                                 \n",
            " dropout_38 (Dropout)        (None, 64)                0         \n",
            "                                                                 \n",
            " dense_53 (Dense)            (None, 10)                650       \n",
            "                                                                 \n",
            " dropout_39 (Dropout)        (None, 10)                0         \n",
            "                                                                 \n",
            " dense_54 (Dense)            (None, 10)                110       \n",
            "                                                                 \n",
            "=================================================================\n",
            "Total params: 676,184\n",
            "Trainable params: 674,776\n",
            "Non-trainable params: 1,408\n",
            "_________________________________________________________________\n"
          ]
        }
      ]
    },
    {
      "cell_type": "code",
      "source": [
        "BN_dropout_history_adam = BN_dropout_model.fit(x_train_norm, y_train_oh, batch_size=64, epochs=10)"
      ],
      "metadata": {
        "colab": {
          "base_uri": "https://localhost:8080/"
        },
        "id": "GElh_TW5jrsj",
        "outputId": "b51bfa15-ecd6-4b9f-f1cb-a384156c1bd6"
      },
      "execution_count": null,
      "outputs": [
        {
          "output_type": "stream",
          "name": "stdout",
          "text": [
            "Epoch 1/10\n",
            "782/782 [==============================] - 16s 19ms/step - loss: 2.0528 - accuracy: 0.2220 - precision: 0.5363 - recall: 0.0321\n",
            "Epoch 2/10\n",
            "782/782 [==============================] - 11s 14ms/step - loss: 1.6095 - accuracy: 0.3673 - precision: 0.6122 - recall: 0.1235\n",
            "Epoch 3/10\n",
            "782/782 [==============================] - 10s 13ms/step - loss: 1.3978 - accuracy: 0.4660 - precision: 0.6694 - recall: 0.2381\n",
            "Epoch 4/10\n",
            "782/782 [==============================] - 10s 13ms/step - loss: 1.1843 - accuracy: 0.5676 - precision: 0.7344 - recall: 0.3764\n",
            "Epoch 5/10\n",
            "782/782 [==============================] - 9s 12ms/step - loss: 1.0099 - accuracy: 0.6553 - precision: 0.8088 - recall: 0.5004\n",
            "Epoch 6/10\n",
            "782/782 [==============================] - 9s 12ms/step - loss: 0.8982 - accuracy: 0.6983 - precision: 0.8341 - recall: 0.5606\n",
            "Epoch 7/10\n",
            "782/782 [==============================] - 9s 12ms/step - loss: 0.8177 - accuracy: 0.7316 - precision: 0.8535 - recall: 0.6097\n",
            "Epoch 8/10\n",
            "782/782 [==============================] - 9s 12ms/step - loss: 0.7514 - accuracy: 0.7562 - precision: 0.8660 - recall: 0.6481\n",
            "Epoch 9/10\n",
            "782/782 [==============================] - 9s 12ms/step - loss: 0.6879 - accuracy: 0.7785 - precision: 0.8799 - recall: 0.6811\n",
            "Epoch 10/10\n",
            "782/782 [==============================] - 9s 12ms/step - loss: 0.6426 - accuracy: 0.7956 - precision: 0.8863 - recall: 0.7056\n"
          ]
        }
      ]
    },
    {
      "cell_type": "code",
      "source": [
        "draw_history_graph(BN_dropout_history_adam, 'BN dropout Model + Adam')"
      ],
      "metadata": {
        "colab": {
          "base_uri": "https://localhost:8080/",
          "height": 350
        },
        "id": "XiukTChFmVYp",
        "outputId": "dcbe564a-5a27-4d9d-ad7e-3aeb3ea22913"
      },
      "execution_count": null,
      "outputs": [
        {
          "output_type": "display_data",
          "data": {
            "text/plain": [
              "<Figure size 1080x360 with 2 Axes>"
            ],
            "image/png": "[encoded data removed]"
          },
          "metadata": {
            "needs_background": "light"
          }
        }
      ]
    },
    {
      "cell_type": "code",
      "source": [
        "adam_loss, adam_accuracy, adam_precision, adam_recall = BN_dropout_model.evaluate(x_test_norm, y_test_oh)\n",
        "print(f'loss= {adam_loss}')\n",
        "print(f'accuracy= {adam_accuracy}')\n",
        "print(f'precision= {adam_precision}')\n",
        "print(f'recall= {adam_recall}')"
      ],
      "metadata": {
        "colab": {
          "base_uri": "https://localhost:8080/"
        },
        "id": "jOuLhMUExc_f",
        "outputId": "e49f4ff2-5279-4b96-b675-071321b73386"
      },
      "execution_count": null,
      "outputs": [
        {
          "output_type": "stream",
          "name": "stdout",
          "text": [
            "313/313 [==============================] - 2s 6ms/step - loss: 1.0332 - accuracy: 0.7341 - precision: 0.8037 - recall: 0.6830\n",
            "loss= 1.033244252204895\n",
            "accuracy= 0.7340999841690063\n",
            "precision= 0.8037185072898865\n",
            "recall= 0.6830000281333923\n"
          ]
        }
      ]
    },
    {
      "cell_type": "markdown",
      "source": [
        "based on accuracy, we can say adam optimazation has done its job better. so now we compute F1 score for third one."
      ],
      "metadata": {
        "id": "T_27aQdino-2"
      }
    },
    {
      "cell_type": "code",
      "source": [
        "best_model_precision = BN_dropout_history_adam.history['precision'][-1]\n",
        "best_model_recall = BN_dropout_history_adam.history['recall'][-1]\n",
        "best_model_F1_score = 2 * (best_model_precision * best_model_recall)/(best_model_precision + best_model_recall)\n",
        "print(f'Precision= {best_model_precision}')\n",
        "print(f'Recall= {best_model_recall}')\n",
        "print(f'F1 score= {best_model_F1_score}')"
      ],
      "metadata": {
        "colab": {
          "base_uri": "https://localhost:8080/"
        },
        "id": "HjwklI5En5HC",
        "outputId": "ef2cc0a0-dd59-47f4-c1b7-57038203b30d"
      },
      "execution_count": null,
      "outputs": [
        {
          "output_type": "stream",
          "name": "stdout",
          "text": [
            "Precision= 0.8921344876289368\n",
            "Recall= 0.7116199731826782\n",
            "F1 score= 0.7917181035812193\n"
          ]
        }
      ]
    },
    {
      "cell_type": "code",
      "source": [
        "new_model = create_model(model_name='new_model')"
      ],
      "metadata": {
        "colab": {
          "base_uri": "https://localhost:8080/"
        },
        "id": "jO7A3pstprol",
        "outputId": "0a41c377-8747-45ab-bafc-8533137884e4"
      },
      "execution_count": null,
      "outputs": [
        {
          "output_type": "stream",
          "name": "stdout",
          "text": [
            "Model: \"new_model\"\n",
            "_________________________________________________________________\n",
            " Layer (type)                Output Shape              Param #   \n",
            "=================================================================\n",
            " input_7 (InputLayer)        [(None, 32, 32, 3)]       0         \n",
            "                                                                 \n",
            " conv2d_48 (Conv2D)          (None, 32, 32, 32)        896       \n",
            "                                                                 \n",
            " conv2d_49 (Conv2D)          (None, 32, 32, 32)        9248      \n",
            "                                                                 \n",
            " max_pooling2d_24 (MaxPoolin  (None, 16, 16, 32)       0         \n",
            " g2D)                                                            \n",
            "                                                                 \n",
            " conv2d_50 (Conv2D)          (None, 16, 16, 64)        18496     \n",
            "                                                                 \n",
            " conv2d_51 (Conv2D)          (None, 16, 16, 64)        36928     \n",
            "                                                                 \n",
            " max_pooling2d_25 (MaxPoolin  (None, 8, 8, 64)         0         \n",
            " g2D)                                                            \n",
            "                                                                 \n",
            " conv2d_52 (Conv2D)          (None, 8, 8, 128)         73856     \n",
            "                                                                 \n",
            " conv2d_53 (Conv2D)          (None, 8, 8, 128)         147584    \n",
            "                                                                 \n",
            " max_pooling2d_26 (MaxPoolin  (None, 4, 4, 128)        0         \n",
            " g2D)                                                            \n",
            "                                                                 \n",
            " conv2d_54 (Conv2D)          (None, 4, 4, 128)         147584    \n",
            "                                                                 \n",
            " conv2d_55 (Conv2D)          (None, 4, 4, 128)         147584    \n",
            "                                                                 \n",
            " max_pooling2d_27 (MaxPoolin  (None, 2, 2, 128)        0         \n",
            " g2D)                                                            \n",
            "                                                                 \n",
            " flatten_6 (Flatten)         (None, 512)               0         \n",
            "                                                                 \n",
            " dense_30 (Dense)            (None, 128)               65664     \n",
            "                                                                 \n",
            " dense_31 (Dense)            (None, 128)               16512     \n",
            "                                                                 \n",
            " dense_32 (Dense)            (None, 64)                8256      \n",
            "                                                                 \n",
            " dense_33 (Dense)            (None, 10)                650       \n",
            "                                                                 \n",
            " dense_34 (Dense)            (None, 10)                110       \n",
            "                                                                 \n",
            "=================================================================\n",
            "Total params: 673,368\n",
            "Trainable params: 673,368\n",
            "Non-trainable params: 0\n",
            "_________________________________________________________________\n"
          ]
        }
      ]
    },
    {
      "cell_type": "code",
      "source": [
        "print('Confusion Matrix\\n',confusion_matrix(y_test, np.argmax(BN_dropout_model(x_test), axis=1)), sep='')"
      ],
      "metadata": {
        "colab": {
          "base_uri": "https://localhost:8080/"
        },
        "id": "QP2hJVoSp1jO",
        "outputId": "feb85337-fe73-4c66-9823-0405f88c6d22"
      },
      "execution_count": null,
      "outputs": [
        {
          "output_type": "stream",
          "name": "stdout",
          "text": [
            "Confusion Matrix\n",
            "[[  1 494   0   0   0  15   0 141   0 349]\n",
            " [  0 756   0   0   0  24   0  36   0 184]\n",
            " [  1 264   0   0   0 314   0 183   0 238]\n",
            " [  0 170   0   2   0 299   0 202   0 327]\n",
            " [  0 164   0   0   0 398   0 229   0 209]\n",
            " [  0  86   0   0   0 597   0 152   0 165]\n",
            " [  0 295   1   0   0 272   0 127   0 305]\n",
            " [  0  58   0   0   0 343   0 473   0 126]\n",
            " [  0 410   0   0   0  22   0 166   7 395]\n",
            " [  0 191   0   0   0  32   0 130   0 647]]\n"
          ]
        }
      ]
    },
    {
      "cell_type": "markdown",
      "source": [
        "# Data Augmentation\n",
        "Data augmentation is a set of techniques to artificially increase the amount of data by generating new data points from existing data. This includes making small changes to data or using deep learning models to generate new data points. \n",
        "\n",
        "For data augmentation, making simple alterations on visual data is popular. In addition, generative adversarial networks (GANs) are used to create new synthetic data. Classic image processing activities for data augmentation are:\n",
        "\n",
        "- padding\n",
        "- random rotating\n",
        "- re-scaling\n",
        "- vertical and horizontal flipping\n",
        "- translation ( image is moved along X, Y direction)\n",
        "- cropping\n",
        "- zooming\n",
        "- darkening & brightening/color modification\n",
        "- grayscaling\n",
        "- changing contrast\n",
        "- adding noise\n",
        "- random erasing\n",
        "\n",
        "![types of augmentation](https://research.aimultiple.com/wp-content/webp-express/webp-images/uploads/2021/04/dataaugmention_image_alletranitons.png.webp)\n",
        "\n",
        "\\\n",
        "[What is Data Augmentation? Techniques & Examples in 2022](https://research.aimultiple.com/data-augmentation/)"
      ],
      "metadata": {
        "id": "-ew2Wo3dyB2o"
      }
    },
    {
      "cell_type": "code",
      "source": [
        "sample_data = x_train[100]\n",
        "plt.imshow(sample_data)"
      ],
      "metadata": {
        "colab": {
          "base_uri": "https://localhost:8080/",
          "height": 284
        },
        "id": "a3L5B9zoyFcK",
        "outputId": "4cfea9ae-794e-4f1a-e340-56528f4b9c70"
      },
      "execution_count": null,
      "outputs": [
        {
          "output_type": "execute_result",
          "data": {
            "text/plain": [
              "<matplotlib.image.AxesImage at 0x7f591362d590>"
            ]
          },
          "metadata": {},
          "execution_count": 103
        },
        {
          "output_type": "display_data",
          "data": {
            "text/plain": [
              "<Figure size 432x288 with 1 Axes>"
            ],
            "image/png": "[encoded data removed]"
          },
          "metadata": {
            "needs_background": "light"
          }
        }
      ]
    },
    {
      "cell_type": "code",
      "source": [
        "gen = ImageDataGenerator(\n",
        "    rotation_range=30, \n",
        "    width_shift_range=0.2, \n",
        "    height_shift_range=0.2, \n",
        "    shear_range=0.15, \n",
        "    zoom_range=0.2, \n",
        "    channel_shift_range=10., \n",
        "    horizontal_flip=True\n",
        ")"
      ],
      "metadata": {
        "id": "2iE9tcT71QX-"
      },
      "execution_count": null,
      "outputs": []
    },
    {
      "cell_type": "code",
      "source": [
        "def plot_generated_images(augmented_images):\n",
        "  plt.suptitle(\"Augmented Images\")\n",
        "  for i in range(len(augmented_images)):\n",
        "    plt.subplot(2, 5, i+1)\n",
        "    plt.axis(False)\n",
        "    plt.imshow(augmented_images[i])\n",
        "  plt.tight_layout()"
      ],
      "metadata": {
        "id": "PwlM9iWw2dPn"
      },
      "execution_count": null,
      "outputs": []
    },
    {
      "cell_type": "code",
      "source": [
        "index = 100\n",
        "sample_image = np.expand_dims(x_train[index], 0)\n",
        "augment_gen = gen.flow(sample_image)\n",
        "aug_images = [next(augment_gen)[0].astype(np.uint8) for i in range(10)]"
      ],
      "metadata": {
        "id": "BdYL7a2k1owh"
      },
      "execution_count": null,
      "outputs": []
    },
    {
      "cell_type": "code",
      "source": [
        "plt.imshow(sample_image[0])"
      ],
      "metadata": {
        "colab": {
          "base_uri": "https://localhost:8080/",
          "height": 284
        },
        "id": "PqqOwN6t2_zF",
        "outputId": "13253817-f217-4b59-bbf5-c6ae0a4fe6d6"
      },
      "execution_count": null,
      "outputs": [
        {
          "output_type": "execute_result",
          "data": {
            "text/plain": [
              "<matplotlib.image.AxesImage at 0x7f5915ac6d50>"
            ]
          },
          "metadata": {},
          "execution_count": 116
        },
        {
          "output_type": "display_data",
          "data": {
            "text/plain": [
              "<Figure size 432x288 with 1 Axes>"
            ],
            "image/png": "[encoded data removed]"
          },
          "metadata": {
            "needs_background": "light"
          }
        }
      ]
    },
    {
      "cell_type": "code",
      "source": [
        "plot_generated_images(aug_images)"
      ],
      "metadata": {
        "colab": {
          "base_uri": "https://localhost:8080/",
          "height": 265
        },
        "id": "etSrI1Pj3i_A",
        "outputId": "073eef89-52d0-47f9-e11d-a0b9b512c84e"
      },
      "execution_count": null,
      "outputs": [
        {
          "output_type": "display_data",
          "data": {
            "text/plain": [
              "<Figure size 432x288 with 10 Axes>"
            ],
            "image/png": "[encoded data removed]"
          },
          "metadata": {
            "needs_background": "light"
          }
        }
      ]
    },
    {
      "cell_type": "markdown",
      "source": [
        "## Load cats vs dogs Dataset"
      ],
      "metadata": {
        "id": "YNdLlhsU7tYg"
      }
    },
    {
      "cell_type": "code",
      "source": [
        "!curl -O https://download.microsoft.com/download/3/E/1/3E1C3F21-ECDB-4869-8368-6DEBA77B919F/kagglecatsanddogs_3367a.zip"
      ],
      "metadata": {
        "colab": {
          "base_uri": "https://localhost:8080/"
        },
        "id": "f8XubKMo4rPD",
        "outputId": "13905383-c8cb-4ee3-a57c-97df464e77ba"
      },
      "execution_count": null,
      "outputs": [
        {
          "output_type": "stream",
          "name": "stdout",
          "text": [
            "  % Total    % Received % Xferd  Average Speed   Time    Time     Time  Current\n",
            "                                 Dload  Upload   Total   Spent    Left  Speed\n",
            "100  786M  100  786M    0     0   159M      0  0:00:04  0:00:04 --:--:--  173M\n"
          ]
        }
      ]
    },
    {
      "cell_type": "code",
      "source": [
        "!unzip -q kagglecatsanddogs_3367a.zip\n",
        "!ls"
      ],
      "metadata": {
        "colab": {
          "base_uri": "https://localhost:8080/"
        },
        "id": "nD_1Og-m73IX",
        "outputId": "3c501f58-5cb7-471b-fd94-06d328c3fa70"
      },
      "execution_count": null,
      "outputs": [
        {
          "output_type": "stream",
          "name": "stdout",
          "text": [
            " kagglecatsanddogs_3367a.zip   PetImages        sample_data\n",
            "'MSR-LA - 3467.docx'\t      'readme[1].txt'\n"
          ]
        }
      ]
    },
    {
      "cell_type": "code",
      "source": [
        "!ls PetImages"
      ],
      "metadata": {
        "colab": {
          "base_uri": "https://localhost:8080/"
        },
        "id": "cWVyKPLD7_o_",
        "outputId": "29c1f9d1-1e25-471f-e9be-2c7ba715b71b"
      },
      "execution_count": null,
      "outputs": [
        {
          "output_type": "stream",
          "name": "stdout",
          "text": [
            "Cat  Dog\n"
          ]
        }
      ]
    },
    {
      "cell_type": "code",
      "source": [
        "source_path = './PetImages'\n",
        "\n",
        "source_path_dogs = os.path.join(source_path, 'Dog')\n",
        "source_path_cats = os.path.join(source_path, 'Cat')\n",
        "\n",
        "\n",
        "# os.listdir returns a list containing all files under the given path\n",
        "print(f\"There are {len(os.listdir(source_path_dogs))} images of dogs.\")\n",
        "print(f\"There are {len(os.listdir(source_path_cats))} images of cats.\")"
      ],
      "metadata": {
        "colab": {
          "base_uri": "https://localhost:8080/"
        },
        "id": "afFeG-vI9Qei",
        "outputId": "04a41ad5-50ce-4b96-d0dc-027b60171c34"
      },
      "execution_count": null,
      "outputs": [
        {
          "output_type": "stream",
          "name": "stdout",
          "text": [
            "There are 12501 images of dogs.\n",
            "There are 12501 images of cats.\n"
          ]
        }
      ]
    },
    {
      "cell_type": "code",
      "source": [
        "image_size = (32, 32)\n",
        "batch_size = 64\n",
        "\n",
        "train_datagen = ImageDataGenerator(rescale=1./255,\n",
        "                                     rotation_range=45,\n",
        "                                     width_shift_range=0.2,\n",
        "                                     height_shift_range=0.2,\n",
        "                                     shear_range=0.2,\n",
        "                                     zoom_range=0.2,\n",
        "                                     horizontal_flip=True,\n",
        "                                     fill_mode='nearest')\n",
        "\n",
        "train_ds = train_datagen.flow_from_directory(\n",
        "    \"PetImages\",\n",
        "    class_mode='binary',\n",
        "    seed=1337,\n",
        "    target_size=image_size,\n",
        "    batch_size=batch_size,\n",
        ")\n",
        "val_ds = train_datagen.flow_from_directory(\n",
        "    \"PetImages\",\n",
        "    class_mode='binary',\n",
        "    seed=1337,\n",
        "    target_size=image_size,\n",
        "    batch_size=batch_size,\n",
        ")"
      ],
      "metadata": {
        "id": "Ipp2gohw8Kpb"
      },
      "execution_count": null,
      "outputs": []
    }
  ],
  "metadata": {
    "colab": {
      "collapsed_sections": [],
      "name": "CI_9831011_nnproject_keras",
      "provenance": [],
      "include_colab_link": true
    },
    "kernelspec": {
      "display_name": "Python 3",
      "name": "python3"
    },
    "accelerator": "GPU"
  },
  "nbformat": 4,
  "nbformat_minor": 0
}